{
 "cells": [
  {
   "cell_type": "markdown",
   "metadata": {
    "deletable": true,
    "editable": true
   },
   "source": [
    "# 1. Introduction\n",
    "---\n",
    "\n",
    "_Python_ is a popular scripting language (where the code is interpreted, __not__ compiled), and is one of the most widely used languages for writing deep learning models. The goal of deep learning is to provide a means to empower computers to process real-world events as humans do: to recognize patterns, to understand a scene, or even to mimic real-world motions such as picking-up and understanding an object. We can accomplish these feats by providing the computer with a large amount data (Gigabyte upon Gigabytes), specifying what we want it to learn, and giving it the computational resources to discover patterns in the data.\n",
    "\n",
    "## 1.1. Deep Learning Frameworks\n",
    "---\n",
    "\n",
    "There have been many different frameworks built on the Python language to support the development of deep learning models. These include (but are not limited to):\n",
    "\n",
    "* [TensorFlow](https://www.tensorflow.org/) -- Google\n",
    "* [PyTorch](https://pytorch.org/) -- Facebook\n",
    "* [Keras](https://keras.io/) -- Google-ish\n",
    "* [Chainer](https://chainer.org/) -- Preferred Networks (Japanese Company)\n",
    "* [MXNet](https://mxnet.apache.org/) -- Apache\n",
    "* [Neon](https://ai.intel.com/neon/) -- Nervana (acquired by Intel)\n",
    "\n",
    "## 1.2. Python Package Managers\n",
    "---\n",
    "\n",
    "Packaging tools such as [Conda](https://conda.io/docs/) are often used to simplify the process of adding and updating packages, as well as maintaining different python environments. An environment is often associated with a specific project and python distribution. Consider the following:\n",
    "\n",
    "* You are working on a project that requires Python=2.7\n",
    "* You are working on another project in parallel that requires Python=3.6\n",
    "\n",
    "By using conda to manage these environments, you can seemlessly switch between tasks without interfering with the global python instance. __It is a good practice to always create a new environment whenever you start a new project__. This ensures that any library dependencies you install don't get contaminated or changed when you want to try something new."
   ]
  },
  {
   "cell_type": "markdown",
   "metadata": {
    "deletable": true,
    "editable": true
   },
   "source": [
    "# 2. Install the Anaconda Package Manager\n",
    "---\n",
    "\n",
    "To use the Conda package manager on the Compute Canada resources, we'll use a distribution called [miniconda](https://conda.io/miniconda.html). Miniconda allows us to individually download each of the packages we'll be using. \n",
    "\n",
    "\n",
    "## 2.1. Task: Install Miniconda3\n",
    "---\n",
    "\n",
    "By default the installation is performed in your home directory to which only you have access. If you want to share your installation with other members of your group, use the instructions in the following Compute Canada Wiki document [Anaconda](https://docs.computecanada.ca/wiki/Anaconda/en#Project_directory_.28group-based_installation.29). For Miniconda with Python 3, execute the following command:\n",
    "\n",
    "```shell\n",
    "$ eb Miniconda3-4.3.27.eb\n",
    "```\n",
    "\n",
    "* __TIP:__ Be patient, the installation of Miniconda can take several minutes. \n",
    "\n",
    "\n",
    "### 2.1.1. Using the Conda Module\n",
    "---\n",
    "\n",
    "Within the Compute Canada HPC environment, there are objects called _modules_. These modules allow one to quickly change their environment -- by swapping out different code compilers, package managers, etc. Whenever you want to use a module, type \"module load\". If you need to use the miniconda module we have just installed for example, you would type the following:\n",
    "\n",
    "```shell\n",
    "$ module load miniconda3\n",
    "```\n",
    "\n",
    "If you type ```module list``` on the command line, you should see \"miniconda3/4.x.xx\" in the returned list. This command also shows you the other modules currently installed for your user. If you're using C++ and want to compile against a particular use-case, you can swap out the module for another one. \n",
    "Whenever you want to use a different package manager you can _un-load_ the module as follows:\n",
    "\n",
    "```shell\n",
    "$ module unload miniconda3\n",
    "```"
   ]
  },
  {
   "cell_type": "markdown",
   "metadata": {
    "deletable": true,
    "editable": true
   },
   "source": [
    "# 3. Task: Create a Python Virtual Environment\n",
    "---\n",
    "\n",
    "For this workshop, we're going to be using python 3.6 and the Pytorch 0.4 library. If you haven't already loaded the miniconda module, load it:\n",
    "\n",
    "```shell\n",
    "$ module load miniconda3\n",
    "```\n",
    "\n",
    "Then create a virtual environment called \"pytorch4\"\n",
    "\n",
    "```shell\n",
    "$ conda create -n pytorch4 python=3.6\n",
    "```\n",
    "\n",
    "Type ```y``` when prompted and press &lt;Enter&gt;. This may take several minutes to complete\n",
    "\n",
    "\n",
    "## 3.1. Starting the Virtual environment\n",
    "---\n",
    "\n",
    "Whenever you want to use this python environment, type the following on the command line:\n",
    "\n",
    "```shell\n",
    "$ source activate pytorch4\n",
    "```\n",
    "\n",
    "## 3.2. Closing the Virtual Environment\n",
    "---\n",
    "\n",
    "Whenever you are done using the environment, type:\n",
    "\n",
    "```shell\n",
    "$ source deactivate pytorch4\n",
    "```"
   ]
  },
  {
   "cell_type": "markdown",
   "metadata": {
    "deletable": true,
    "editable": true
   },
   "source": [
    "# 4. Task: Install PyTorch -- A Deep Learning Framework\n",
    "---\n",
    "\n",
    "Thus far, we have installed a Python _package manager_, and installed an environment within the package manager called _pytorch4_ that we will populate with packages and libraries needed to run the workshop. Within this environment, we will also install the PyTorch deep learning framework. \n",
    "\n",
    "```shell\n",
    "$ source activate pytorch4\n",
    "```\n",
    "\n",
    "Install the latest pytorch framework:\n",
    "\n",
    "```shell\n",
    "(pytorch4) $ conda install pytorch torchvision -c pytorch\n",
    "```"
   ]
  },
  {
   "cell_type": "markdown",
   "metadata": {
    "deletable": true,
    "editable": true
   },
   "source": [
    "# 5. Task: Install Helper Libraries\n",
    "---\n",
    "\n",
    "Install the library _tqdm_ for monitoring training status, and the matplotlib library for visualizing results: \n",
    "\n",
    "```shell\n",
    "(pytorch4) $ conda install tqdm\n",
    "(pytorch4) $ conda install matplotlib\n",
    "```"
   ]
  },
  {
   "cell_type": "code",
   "execution_count": null,
   "metadata": {
    "collapsed": true
   },
   "outputs": [],
   "source": []
  }
 ],
 "metadata": {
  "kernelspec": {
   "display_name": "Python 3",
   "language": "python",
   "name": "python3"
  },
  "language_info": {
   "codemirror_mode": {
    "name": "ipython",
    "version": 3
   },
   "file_extension": ".py",
   "mimetype": "text/x-python",
   "name": "python",
   "nbconvert_exporter": "python",
   "pygments_lexer": "ipython3",
   "version": "3.5.4"
  }
 },
 "nbformat": 4,
 "nbformat_minor": 2
}
