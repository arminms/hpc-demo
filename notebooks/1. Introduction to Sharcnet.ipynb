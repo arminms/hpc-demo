{
 "cells": [
  {
   "cell_type": "markdown",
   "metadata": {
    "deletable": true,
    "editable": true
   },
   "source": [
    "# Overview\n",
    "---\n",
    "\n",
    "The goal of this workshop is to gain familiarity with the computational resources provided by Compute Canada. The workshop will cover aspects of logging in, transfering data, initializing environments, requesting CPU / GPU resources, and relinquishing jobs when you are done using them. To motivate the use of these resources, a deep learning model written in Python will be trained on both CPU and GPU, and the relative performances will be evaluated. \n",
    "\n",
    "Much of the information found in this document is taken from [here](https://www.sharcnet.ca/help/index.php/Knowledge_Base), and this [webinar](https://www.youtube.com/watch?v=dfw027j284Q).\n",
    "\n",
    "\n",
    "## Workshop Requirements\n",
    "---\n",
    "\n",
    "* Compute Canada account\n",
    "* (WINDOWS) [MobaXterm](https://mobaxterm.mobatek.net/) for connecting to SHARCNet, transfering files between SHARCNet/your computer and viewing graphical windows \n",
    "\n",
    "## Compute Canada Clusters\n",
    "---\n",
    "\n",
    "* [Cedar](https://docs.computecanada.ca/wiki/Cedar): cedar.computecanada.ca \n",
    "* [Graham](https://docs.computecanada.ca/wiki/Graham): graham.computecanada.ca\n",
    "* [Niagara](niagara.computecanada.ca): niagra.computecanada.ca\n"
   ]
  },
  {
   "cell_type": "markdown",
   "metadata": {
    "deletable": true,
    "editable": true
   },
   "source": [
    "# 1. SHARCNet\n",
    "---\n",
    "\n",
    "SHARCNet is a partner of Compute Canada. __SHARCNet__ stands for _Shared Hierarchical Academic Research Computing Network_. It was established in 2000, and involves 18 Universities and Colleges across Southern, Central, and Northern Ontario. The main office is at the University of Western Ontario. SHARCNet is free to use for academic researchers. \n",
    "\n",
    "To log in to Compute Canada _or_ SHARCNet, you need to establish a connection using the secure shell protocol (SSH). \n",
    "\n",
    "## 1.1. Connecting from Linux or Mac\n",
    "---\n",
    "\n",
    "If connecting from Linux or a Mac, you can connect by entering the following from the command line: \n",
    " \n",
    "```$ ssh graham.computecanada.ca``` \n",
    "\n",
    "and you will be prompted to input your username and password. Alternatively, you can also initialize the connection with your username by adding it as a prefix:\n",
    "\n",
    "```$ ssh username@graham.computecanada.ca```\n",
    "\n",
    "which will allow you to log in by only entering your password on the subsequent screen. \n",
    "\n",
    "## 1.2. Connecting from Windows\n",
    "---\n",
    "\n",
    "Download the program [MobaXterm](https://mobaxterm.mobatek.net/), and enter the following command:\n",
    " \n",
    "```$ ssh graham.computecanada.ca``` \n",
    "\n"
   ]
  },
  {
   "cell_type": "markdown",
   "metadata": {
    "deletable": true,
    "editable": true
   },
   "source": [
    "# 2. Major Feature: Login Nodes vs. Compute Nodes\n",
    "---\n",
    "\n",
    "SHARCNet is a different environment than what you may be used to. Here, you submit a _job_ to a scheduler, which will queue your request for processing until a resource is free. \n",
    "\n",
    "When you connect to SHARCNet, you connect to a _login_ node that serves as a sort-of centralized hub. Login nodes are the only nodes that have internet access, and are useful for tasks such as:\n",
    "\n",
    "* Submitting jobs to the scheduler\n",
    "* Transfering data to / from the SHARCNet ecosystem\n",
    "* Initializing code environments\n",
    "* Coding / processing very small projects\n",
    "\n",
    "_Compute nodes_ on the other hand, are the main workhorses that are designed to handle heavy code processing. \n",
    "\n",
    "## 2.1. Interactive Nodes vs. Non-Interactive Nodes\n",
    "---\n",
    "\n",
    "When you submit a job to the scheduler, you give it constraints such as the _maximum running time_ and _how much memory is needed_, and the job scheduler will find an appropriate time for your program to run on _non-interactive nodes_. If your program is found to have bugs in it (and it crashes during its alloted execution time), your remaining time will be forfeit and you will be tasked with fixing the code and submitting it for execution again. \n",
    "\n",
    "Interactive nodes on the other hand, can be used to quickly prototype code on a particular resource. You can request either CPUs or GPUs for a small amount of time, do some interactive programming, and when you're done relinquish the node and submit the job to a non-interactive node. "
   ]
  },
  {
   "cell_type": "markdown",
   "metadata": {
    "deletable": true,
    "editable": true
   },
   "source": [
    "# 3. Major Feature: The Job Scheduler\n",
    "---\n",
    "\n",
    "Information from [here](https://www.sharcnet.ca/help/index.php/SLURM) and webinar [here](https://www.youtube.com/watch?v=dfw027j284Q)\n",
    "\n",
    "Since SHARCNet is shared among a large number of researchers, there is no guarantee that resources will always be available for use. Instead, there is a scheduler that chooses when code can run and depends on factors such as priority (e.g. and how much of the resource you've used before), and the amount of resources requested (e.g. memory, many nodes, etc ...). This scheduler is called __SLURM__, and stands for: Simple Linux Utility for Resource Management. \n",
    "\n",
    "An overview of the job scheduling policies can be found [here](https://docs.computecanada.ca/wiki/Job_scheduling_policies)."
   ]
  },
  {
   "cell_type": "markdown",
   "metadata": {
    "deletable": true,
    "editable": true
   },
   "source": [
    "#  4. Major Feature / Consideration: Data Storage Policies\n",
    "---\n",
    "\n",
    "Note: Table copied from [here](https://docs.computecanada.ca/wiki/Storage_and_file_management)\n",
    "\n",
    "|   Filesystem  |           Default Quota          |            Lustre-based?           |  Backed up? |                  Purged?                |  Available by Default? |  Mounted on Compute Nodes? |\n",
    "|:-------------:|:--------------------------------:|:----------------------------------:|:-----------:|:---------------------------------------:|:----------------------:|----------------------------|\n",
    "| Home Space    | 50 GB and 500K files per user[1] | Yes for Cedar, No for Graham (NFS) | Yes         | No                                      | Yes                    | Yes                        |\n",
    "| Scratch Space | 20 TB and 1M files per user[2]   | Yes                                | No          | Files older than 60 days are purged.[3] | Yes                    | Yes                        |\n",
    "| Project Space | 1 TB and 500k files per group[4] | Yes                                | Yes         | No                                      | Yes                    | Yes                        |\n",
    "\n",
    "## 4.1. Notes\n",
    "---\n",
    "\n",
    "* /home is accessed by all users, and should not be used to frequently open / load / read from when submitting jobs as it may introduce additionally latency that affects a large number of users\n",
    "* /scratch is fast access, but files will only exist for 60 days before they get purged. This means that if your program writes any files to the /scratch file system and you want to keep these files, you should move them once done. "
   ]
  },
  {
   "cell_type": "markdown",
   "metadata": {
    "deletable": true,
    "editable": true
   },
   "source": [
    "# 5. Consideration: File Transfer\n",
    "---\n",
    "\n",
    "There are many different ways to transfer data between your compute and the SHARCNet resources. If you are not comfortable using the command line to transfer data, or you have very large files, SHARCNet encourages the use of software known as [Globus](https://www.sharcnet.ca/help/index.php/Globus). This is a portal that operates in a manner similar to \"drag and drop\" that should be familiar with most users. \n",
    "\n",
    "There are also other methods for transferring data such as:\n",
    "\n",
    "* (LINUX) [scp](https://linux.die.net/man/1/scp) which stands for _secure copy_\n",
    "* (LINUX) [rsync](https://linux.die.net/man/1/rsync) which is an efficient tool for copying files\n",
    "* (WINDOWS) [psftp](https://www.chiark.greenend.org.uk/~sgtatham/putty/latest.html) \n",
    "\n",
    "We will explore some of these later in the workshop."
   ]
  }
 ],
 "metadata": {
  "kernelspec": {
   "display_name": "Python 3",
   "language": "python",
   "name": "python3"
  },
  "language_info": {
   "codemirror_mode": {
    "name": "ipython",
    "version": 3
   },
   "file_extension": ".py",
   "mimetype": "text/x-python",
   "name": "python",
   "nbconvert_exporter": "python",
   "pygments_lexer": "ipython3",
   "version": "3.5.4"
  }
 },
 "nbformat": 4,
 "nbformat_minor": 2
}
